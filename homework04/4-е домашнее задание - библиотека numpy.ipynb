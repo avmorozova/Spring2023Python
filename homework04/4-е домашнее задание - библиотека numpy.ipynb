{
 "cells": [
  {
   "cell_type": "markdown",
   "metadata": {},
   "source": [
    "## 4-е домашнее задание - Библиотека numpy\n",
    "\n",
    "Подпишите этот блокнот: укажите ФИО и номер группы. Выполненное задание загрузите в свой репозиторий «<b>Spring2023Python</b>» в github в папку \"<b>homework04</b>\".  \n",
    "\n",
    "Перед выполнением этого домашнего задания полезно прочитать про возможности и основные методы библиотеки numpy:  \n",
    "http://acm.mipt.ru/twiki/bin/view/Cintro/PythonNumpy  \n"
   ]
  },
  {
   "cell_type": "markdown",
   "metadata": {},
   "source": [
    "1.\tСоздайте равномерное разбиение интервала от -1.3 до 2.5 на 64 отрезка."
   ]
  },
  {
   "cell_type": "code",
   "execution_count": 2,
   "metadata": {},
   "outputs": [
    {
     "data": {
      "text/plain": [
       "array([-1.3     , -1.240625, -1.18125 , -1.121875, -1.0625  , -1.003125,\n",
       "       -0.94375 , -0.884375, -0.825   , -0.765625, -0.70625 , -0.646875,\n",
       "       -0.5875  , -0.528125, -0.46875 , -0.409375, -0.35    , -0.290625,\n",
       "       -0.23125 , -0.171875, -0.1125  , -0.053125,  0.00625 ,  0.065625,\n",
       "        0.125   ,  0.184375,  0.24375 ,  0.303125,  0.3625  ,  0.421875,\n",
       "        0.48125 ,  0.540625,  0.6     ,  0.659375,  0.71875 ,  0.778125,\n",
       "        0.8375  ,  0.896875,  0.95625 ,  1.015625,  1.075   ,  1.134375,\n",
       "        1.19375 ,  1.253125,  1.3125  ,  1.371875,  1.43125 ,  1.490625,\n",
       "        1.55    ,  1.609375,  1.66875 ,  1.728125,  1.7875  ,  1.846875,\n",
       "        1.90625 ,  1.965625,  2.025   ,  2.084375,  2.14375 ,  2.203125,\n",
       "        2.2625  ,  2.321875,  2.38125 ,  2.440625,  2.5     ])"
      ]
     },
     "execution_count": 2,
     "metadata": {},
     "output_type": "execute_result"
    }
   ],
   "source": [
    "import numpy as np\n",
    "np.linspace(-1.3, 2.5, 65)"
   ]
  },
  {
   "cell_type": "markdown",
   "metadata": {},
   "source": [
    "2. Сгенерируйте numpy массив длины $3n$, заполненный циклически числами 1, 2, 3, 1, 2, 3, 1...."
   ]
  },
  {
   "cell_type": "code",
   "execution_count": 2,
   "metadata": {},
   "outputs": [
    {
     "name": "stdout",
     "output_type": "stream",
     "text": [
      "5\n"
     ]
    },
    {
     "data": {
      "text/plain": [
       "array([1, 2, 3, 1, 2, 3, 1, 2, 3, 1, 2, 3, 1, 2, 3])"
      ]
     },
     "execution_count": 2,
     "metadata": {},
     "output_type": "execute_result"
    }
   ],
   "source": [
    "n = int(input())\n",
    "np.array([1, 2, 3] * n)"
   ]
  },
  {
   "cell_type": "markdown",
   "metadata": {},
   "source": [
    "3.\tСоздайте массив первых 10 нечетных целых чисел."
   ]
  },
  {
   "cell_type": "code",
   "execution_count": 3,
   "metadata": {},
   "outputs": [
    {
     "data": {
      "text/plain": [
       "array([ 1,  3,  5,  7,  9, 11, 13, 15, 17, 19])"
      ]
     },
     "execution_count": 3,
     "metadata": {},
     "output_type": "execute_result"
    }
   ],
   "source": [
    "np.arange(1, 20, 2)"
   ]
  },
  {
   "cell_type": "markdown",
   "metadata": {},
   "source": [
    "4.  Создайте массив нулей размера 10 x 10, а затем создайте в нём \"рамку\" из единиц по краям."
   ]
  },
  {
   "cell_type": "code",
   "execution_count": 4,
   "metadata": {},
   "outputs": [
    {
     "name": "stdout",
     "output_type": "stream",
     "text": [
      "[[1. 1. 1. 1. 1. 1. 1. 1. 0. 1.]\n",
      " [1. 0. 0. 0. 0. 0. 0. 0. 0. 1.]\n",
      " [1. 0. 0. 0. 0. 0. 0. 0. 0. 1.]\n",
      " [1. 0. 0. 0. 0. 0. 0. 0. 0. 1.]\n",
      " [1. 0. 0. 0. 0. 0. 0. 0. 0. 1.]\n",
      " [1. 0. 0. 0. 0. 0. 0. 0. 0. 1.]\n",
      " [1. 0. 0. 0. 0. 0. 0. 0. 0. 1.]\n",
      " [1. 0. 0. 0. 0. 0. 0. 0. 0. 1.]\n",
      " [1. 0. 0. 0. 0. 0. 0. 0. 0. 1.]\n",
      " [1. 1. 1. 1. 1. 1. 1. 1. 0. 1.]]\n"
     ]
    }
   ],
   "source": [
    "a = np.zeros((10, 10))\n",
    "a[:, [0, 9]] = 1\n",
    "a[[0, 9], 1:8] = 1\n",
    "print(a)"
   ]
  },
  {
   "cell_type": "markdown",
   "metadata": {},
   "source": [
    "5.  Создайте массив 8 x 8 с шахматной доской из нулей и единиц."
   ]
  },
  {
   "cell_type": "code",
   "execution_count": 5,
   "metadata": {},
   "outputs": [
    {
     "name": "stdout",
     "output_type": "stream",
     "text": [
      "[[1. 0. 1. 0. 1. 0. 1. 0.]\n",
      " [0. 1. 0. 1. 0. 1. 0. 1.]\n",
      " [1. 0. 1. 0. 1. 0. 1. 0.]\n",
      " [0. 1. 0. 1. 0. 1. 0. 1.]\n",
      " [1. 0. 1. 0. 1. 0. 1. 0.]\n",
      " [0. 1. 0. 1. 0. 1. 0. 1.]\n",
      " [1. 0. 1. 0. 1. 0. 1. 0.]\n",
      " [0. 1. 0. 1. 0. 1. 0. 1.]]\n"
     ]
    }
   ],
   "source": [
    "b = np.zeros((8, 8))\n",
    "b[::2, ::2] = 1\n",
    "b[1::2, 1::2] = 1\n",
    "print(b)"
   ]
  },
  {
   "cell_type": "markdown",
   "metadata": {},
   "source": [
    "6.  Создайте функцию, которая создает $n×n$ матрицу с $(i,j)$-элементом, равным $i+j$."
   ]
  },
  {
   "cell_type": "code",
   "execution_count": 6,
   "metadata": {},
   "outputs": [
    {
     "name": "stdout",
     "output_type": "stream",
     "text": [
      "5\n",
      "[[0 1 2 3 4]\n",
      " [1 2 3 4 5]\n",
      " [2 3 4 5 6]\n",
      " [3 4 5 6 7]\n",
      " [4 5 6 7 8]]\n"
     ]
    }
   ],
   "source": [
    "n = int(input())\n",
    "m = np.empty((n, n), dtype = \"int\")\n",
    "for i in range(n):\n",
    "    for j in range(n):\n",
    "        m[i][j] = i + j\n",
    "print(m)"
   ]
  },
  {
   "cell_type": "markdown",
   "metadata": {},
   "source": [
    "7. Примените функцию dot для перемножения вектор на вектор, матрицу на вектор и матрицу на матрицу."
   ]
  },
  {
   "cell_type": "code",
   "execution_count": 7,
   "metadata": {
    "scrolled": true
   },
   "outputs": [
    {
     "name": "stdout",
     "output_type": "stream",
     "text": [
      "[8 8 1 2 7] \n",
      "\n",
      " [[7 5 0 4 5]\n",
      " [5 9 9 9 4]\n",
      " [7 6 6 6 9]\n",
      " [6 5 4 8 8]\n",
      " [7 6 2 0 4]] \n",
      "\n",
      "\n",
      "182 \n",
      "\n",
      "\n",
      "[139 167 185 164 134] \n",
      "\n",
      "\n",
      "[[133 130  71 105 107]\n",
      " [225 229 179 227 230]\n",
      " [220 209 132 166 197]\n",
      " [199 187 117 157 182]\n",
      " [121 125  74  94  93]]\n"
     ]
    }
   ],
   "source": [
    "v = np.random.randint(1, 10, n)\n",
    "m = np.random.randint(10, size=(n, n))\n",
    "print(v, '\\n\\n', m, '\\n\\n')\n",
    "print(np.dot(v, v), '\\n\\n')\n",
    "print(np.dot(m, v), '\\n\\n')\n",
    "print(np.dot(m, m))"
   ]
  },
  {
   "cell_type": "markdown",
   "metadata": {},
   "source": [
    "8. Вычислите cos(x) и sin(x) на интервале [0,1] с шагом $0.05$, а затем объедините оба массива чисел как строки в один массив."
   ]
  },
  {
   "cell_type": "code",
   "execution_count": 8,
   "metadata": {},
   "outputs": [
    {
     "data": {
      "text/plain": [
       "[1.0,\n",
       " 0.9987502603949663,\n",
       " 0.9950041652780258,\n",
       " 0.9887710779360422,\n",
       " 0.9800665778412416,\n",
       " 0.9689124217106447,\n",
       " 0.955336489125606,\n",
       " 0.9393727128473789,\n",
       " 0.9210609940028851,\n",
       " 0.9004471023526769,\n",
       " 0.8775825618903728,\n",
       " 0.8525245220595057,\n",
       " 0.8253356149096782,\n",
       " 0.7960837985490559,\n",
       " 0.7648421872844884,\n",
       " 0.7316888688738209,\n",
       " 0.6967067093471654,\n",
       " 0.6599831458849821,\n",
       " 0.6216099682706644,\n",
       " 0.5816830894638835,\n",
       " 0.5403023058681398,\n",
       " 0.0,\n",
       " 0.04997916927067833,\n",
       " 0.09983341664682815,\n",
       " 0.14943813247359924,\n",
       " 0.19866933079506122,\n",
       " 0.24740395925452294,\n",
       " 0.2955202066613396,\n",
       " 0.3428978074554514,\n",
       " 0.3894183423086505,\n",
       " 0.43496553411123023,\n",
       " 0.479425538604203,\n",
       " 0.5226872289306592,\n",
       " 0.5646424733950355,\n",
       " 0.6051864057360395,\n",
       " 0.6442176872376911,\n",
       " 0.6816387600233341,\n",
       " 0.7173560908995228,\n",
       " 0.7512804051402927,\n",
       " 0.7833269096274834,\n",
       " 0.8134155047893737,\n",
       " 0.8414709848078965]"
      ]
     },
     "execution_count": 8,
     "metadata": {},
     "output_type": "execute_result"
    }
   ],
   "source": [
    "c = np.cos(np.linspace(0, 1, int(1 / 0.05) + 1))\n",
    "s = np.sin(np.linspace(0, 1, int(1 / 0.05) + 1))\n",
    "list(c) + list(s)"
   ]
  },
  {
   "cell_type": "markdown",
   "metadata": {},
   "source": [
    "9. Создайте матрицу $A$ размера $3×5$ из случайных чисел с равномерным распределением на отрезке $[-1,3]$ (используйте np.random.rand)"
   ]
  },
  {
   "cell_type": "code",
   "execution_count": 9,
   "metadata": {},
   "outputs": [
    {
     "name": "stdout",
     "output_type": "stream",
     "text": [
      "[[ 2.64702223 -0.64267218  1.2540073   2.50981342 -0.88494354]\n",
      " [ 1.20624702  0.50248195 -0.24237273  1.4864474   1.51293719]\n",
      " [-0.05690687  2.8675917  -0.88087403  1.53109494  2.28751809]]\n"
     ]
    }
   ],
   "source": [
    "A = np.random.rand(3, 5)*4-1\n",
    "print(A)"
   ]
  },
  {
   "cell_type": "markdown",
   "metadata": {},
   "source": [
    "10. Найдите сумму всех элементов, сумму внутри строк, сумму внутри столбцов, а также среднее значение, дисперсию и стандартное отклонение чисел для каждой строки матрицы $A$. (Подобно тому, как sorted имеет необязательный аргумент key=, многие функции Numpy имеют необязательный аргумент axis=)\n"
   ]
  },
  {
   "cell_type": "code",
   "execution_count": 10,
   "metadata": {},
   "outputs": [
    {
     "name": "stdout",
     "output_type": "stream",
     "text": [
      "сумма всех элементов 15.097391889718079\n",
      "сумма внутри строк [4.88322724 4.46574083 5.74842382]\n",
      "сумма внутри столбцов [3.79636238 2.72740147 0.13076055 5.52735576 2.91551174]\n",
      "среднее значение [0.97664545 0.89314817 1.14968476]\n",
      "дисперсия [2.26107908 0.45524022 1.994075  ]\n",
      "стандартное отклонение [1.50368849 0.67471492 1.41211721]\n"
     ]
    }
   ],
   "source": [
    "print('сумма всех элементов', A.sum())\n",
    "print('сумма внутри строк', np.sum(A, 1))\n",
    "print('сумма внутри столбцов', np.sum(A, 0))\n",
    "print('среднее значение', np.mean(A, 1))\n",
    "print('дисперсия', np.var(A, 1))\n",
    "print('стандартное отклонение', np.std(A, 1))"
   ]
  },
  {
   "cell_type": "markdown",
   "metadata": {},
   "source": [
    "11.  Отнимите от каждого элемента матрицы $A$ среднее по строке и поделите на стандартное отклонение строки."
   ]
  },
  {
   "cell_type": "code",
   "execution_count": 11,
   "metadata": {},
   "outputs": [
    {
     "name": "stdout",
     "output_type": "stream",
     "text": [
      "[[ 1.11085294 -1.076897    0.18445433  1.01960478 -1.23801505]\n",
      " [ 0.46404614 -0.5790093  -1.68296397  0.87933321  0.91859393]\n",
      " [-0.85445573  1.21654699 -1.43795344  0.2700981   0.80576408]]\n"
     ]
    }
   ],
   "source": [
    "M = np.mean(A, 1)\n",
    "S = np.std(A, 1)\n",
    "for i in range(len(A)):\n",
    "    A[i, :] -= M[i]\n",
    "    A[i, :] /= S[i]\n",
    "print(A)"
   ]
  },
  {
   "cell_type": "markdown",
   "metadata": {},
   "source": [
    "12. Отсортируйте матрицу $A$ по 3-ому столбцу, т.е. поменяйте местами строки матрицы так, чтобы 3-й столбец оказался отсортированным. Используйте для этого slicing + argsort + indexing."
   ]
  },
  {
   "cell_type": "code",
   "execution_count": 12,
   "metadata": {},
   "outputs": [
    {
     "data": {
      "text/plain": [
       "array([[ 0.46404614, -0.5790093 , -1.68296397,  0.87933321,  0.91859393],\n",
       "       [-0.85445573,  1.21654699, -1.43795344,  0.2700981 ,  0.80576408],\n",
       "       [ 1.11085294, -1.076897  ,  0.18445433,  1.01960478, -1.23801505]])"
      ]
     },
     "execution_count": 12,
     "metadata": {},
     "output_type": "execute_result"
    }
   ],
   "source": [
    "A[A[:, 2].argsort()]"
   ]
  },
  {
   "cell_type": "markdown",
   "metadata": {},
   "source": [
    "13. Посчитайте две матрицы: $B = A^TA$ и $C = AA^T$. Что вы можете о них сказать? Какого они размера? В чём их сходство и отличие?"
   ]
  },
  {
   "cell_type": "code",
   "execution_count": 13,
   "metadata": {},
   "outputs": [
    {
     "name": "stdout",
     "output_type": "stream",
     "text": [
      "[[ 2.17942767 -2.50444678  0.65259627  1.30989528 -1.63747244]\n",
      " [-2.50444678  2.97494551 -0.97352445 -1.27856441  1.78159014]\n",
      " [ 0.65259627 -0.97352445  4.93410121 -1.68020408 -2.93296895]\n",
      " [ 1.30989528 -1.27856441 -1.68020408  1.88577379 -0.23690058]\n",
      " [-1.63747244  1.78159014 -2.93296895 -0.23690058  3.02575182]] \n",
      "\n",
      " [[ 5.          0.58792964 -3.24666196]\n",
      " [ 0.58792964  5.          2.29680114]\n",
      " [-3.24666196  2.29680114  5.        ]]\n"
     ]
    }
   ],
   "source": [
    "B = np.dot(np.transpose(A), A)\n",
    "C = np.dot(A, np.transpose(A))\n",
    "print(B, '\\n\\n', C)"
   ]
  },
  {
   "cell_type": "markdown",
   "metadata": {},
   "source": [
    "1) Обе матрицы симметричны\n",
    "2) Матрица B размера 5х5, С - 3х3\n",
    "3) Сходство: симметричность, тип значений; Отличия: размер, значения, у матрицы С значения на главной диагонали равны, а у матрицы B нет"
   ]
  },
  {
   "cell_type": "markdown",
   "metadata": {},
   "source": [
    "14. Найдите сумму диагональных элементов матриц $B$ и $C$."
   ]
  },
  {
   "cell_type": "code",
   "execution_count": 14,
   "metadata": {},
   "outputs": [
    {
     "data": {
      "text/plain": [
       "30.0"
      ]
     },
     "execution_count": 14,
     "metadata": {},
     "output_type": "execute_result"
    }
   ],
   "source": [
    "np.sum(np.diagonal(B)) + np.sum(np.diagonal(C))"
   ]
  },
  {
   "cell_type": "markdown",
   "metadata": {},
   "source": [
    "15. Посчитайте детерминант и ранг матриц $A$, $B$ и $C$, посмотрите на спектр (набор собственных значений) матриц $B$ и $C$, какие выводы вы можете сделать?  \n",
    "(подсказка: используйте готовые функции из библиотеки np.linalg). \n"
   ]
  },
  {
   "cell_type": "code",
   "execution_count": 15,
   "metadata": {},
   "outputs": [
    {
     "name": "stdout",
     "output_type": "stream",
     "text": [
      "0.0\n",
      "35.4228383220456\n",
      "3\n",
      "3\n",
      "3\n",
      "[8.71504431e+00 5.55299749e+00 7.31958200e-01 3.91782483e-16\n",
      " 1.03547398e-16]\n",
      "[0.7319582  8.71504431 5.55299749]\n"
     ]
    }
   ],
   "source": [
    "#print(np.linalg.det(A)) - выдает ошибку, т.к матрица должна быть квадратной\n",
    "print(np.linalg.det(B))\n",
    "print(np.linalg.det(C))\n",
    "print(np.linalg.matrix_rank(A))\n",
    "print(np.linalg.matrix_rank(B))\n",
    "print(np.linalg.matrix_rank(C))\n",
    "print(np.linalg.eig(B)[0])\n",
    "print(np.linalg.eig(C)[0])"
   ]
  },
  {
   "cell_type": "markdown",
   "metadata": {},
   "source": [
    "1) Матрицы A, B, C имеют одинаковый ранг\n",
    "2) Длины спектров соответсвуют размерностям матриц B и C"
   ]
  },
  {
   "cell_type": "markdown",
   "metadata": {},
   "source": [
    "16. Численно посчитать определённый интеграл  3-мя методами:  \n",
    "a)\tПрямоугольников $\\int\\limits_a^b {f(x)dx \\approx \\Delta x\\sum\\limits_{k = 0}^N {f({x_k})} }$  \n",
    "b)\tТрапеций $\\int\\limits_a^b {f(x)dx \\approx \\frac{{\\Delta x}}{2}\\left( {f({x_0}) + 2\\sum\\limits_{k = 1}^{N - 1} {f({x_k})}  + f({x_N})} \\right)}$  \n",
    "c)\tПо правилу Симпсона  $\\int\\limits_a^b {f(x)dx \\approx \\frac{{\\Delta x}}{3}\\left( {f({x_0}) + 2\\sum\\limits_{k = 1}^{N/2 - 1} {f({x_{2k}})}  + 4\\sum\\limits_{k = 1}^{N/2} {f({x_{2k - 1}})}  + f({x_N})} \\right)}$  \n",
    "\n",
    "\n",
    "В реализации этих методов цикл for для суммирования использовать нельзя.  \n",
    "Нужно посчитать значение интеграла с некоторым шагом интегрирования (например начать с 0.1), потом уменьшить его в десять раз и ещё раз посчитать и так до тех пор пока отличие в ответах будет в 5-м знаке после запятой, т.е. чтобы ошибка была меньше 1e-5. Получить ответы для 3-х разных методов и сделать соответствующие выводы.  \n",
    "\n",
    "Далее необходимо сравнить полученные оценки с аналитическим решением (т.е. формульным, которое вы должны сами посчитать на листочке и вбить формулу-ответ).   \n",
    "\n",
    "В качестве интеграла взять два из следующих примеров:  \n",
    "- один с номером, сгенерированным случайным образом с помощью функции np.random.randint(9), в качестве seed для генератора случайных чисел взять номер своего студенческого билета. \n",
    "- второй номер - под номером 9, несобственный интерграл. Подумайте, как сделать подбор шага интегрирования адаптивным.\n",
    "\n",
    "<table width=\"80%\"\n",
    "       align=\"center\">\n",
    "    <tr>\n",
    "        <td> 0) $\\int\\limits_3^4 {\\frac{{{x^2} + 3}}{{x - 2}}dx}$ </td>\n",
    "        <td> 1) $\\int\\limits_{ - 2}^{ - 1} {\\frac{{x + 1}}{{{x^3} - {x^2}}}dx}$ </td>\n",
    "        <td> 2) $\\int\\limits_1^2 {\\frac{{{e^{1/{x^2}}}}}{{{x^3}}}dx}$ </td>\n",
    "        <td> 3) $\\int\\limits_1^e {\\frac{{\\cos (\\ln x)}}{x}dx}$ </td>\n",
    "        <td> 4) $\\int\\limits_1^e {\\frac{{dx}}{{x(1 + {{\\ln }^2}x)}}}$ </td>\n",
    "    </tr>                \n",
    "    <tr>\n",
    "        <td> 5) $\\int\\limits_0^{\\pi /2} {{{\\cos }^3}\\alpha \\;d\\alpha }$ </td>\n",
    "        <td> 6) $\\int\\limits_0^{1/3} {c{h^2}3x\\;dx}$ </td>\n",
    "        <td> 7) $\\int\\limits_2^3 {\\frac{{dy}}{{{y^2} - 2y - 8}}dy}$ </td>\n",
    "        <td> 8) $\\int\\limits_0^2 {\\frac{{2x - 1}}{{2x + 1}}dx}$ </td>\n",
    "        <td> 9) $\\int\\limits_{3/4}^2 {\\frac{{dx}}{{\\sqrt {2 + 3x - 2{x^2}} }}}$ </td>\n",
    "        </tr>\n",
    "</table>"
   ]
  },
  {
   "cell_type": "code",
   "execution_count": 16,
   "metadata": {},
   "outputs": [
    {
     "data": {
      "text/plain": [
       "array([4])"
      ]
     },
     "execution_count": 16,
     "metadata": {},
     "output_type": "execute_result"
    }
   ],
   "source": [
    "np.random.seed(1032201708)\n",
    "np.random.randint(9, size=1)"
   ]
  },
  {
   "cell_type": "code",
   "execution_count": 5,
   "metadata": {},
   "outputs": [
    {
     "name": "stdout",
     "output_type": "stream",
     "text": [
      "3.401301277627944e-06\n",
      "Решения интеграла №4:\n",
      "Аналитическое:  0.7853981633974483\n",
      "0.0001\n",
      "[0.7854015646987259, 0.7853423670359505, 0.7853362343145968]\n"
     ]
    }
   ],
   "source": [
    "def f1(x):\n",
    "    return 1 / (x * (1 + (np.log(x))**2))\n",
    "\n",
    "def f2(x):\n",
    "    return 1 / np.sqrt(2 + 3*x - 2 * x**2, where = x!=2)\n",
    "\n",
    "def sol(func, a, b, dx, method):\n",
    "    n = int((b - a) / dx)\n",
    "    t = np.linspace(a, b, n, endpoint = False)\n",
    "    if method == 'rect':\n",
    "        return dx * np.sum(func(t))\n",
    "    elif method == 'trap':\n",
    "        return dx / 2 * ((func(t[0]) + 2 * np.sum(func(t[1:-1])) + func(t[-1])))\n",
    "    elif method == 'simps':\n",
    "        return dx / 3 * ((func(t[0]) + 2 * np.sum(func(t[2:-1:2])) + 4 * np.sum(func(t[1:-2:2])) + func(t[-1])))\n",
    "    else:\n",
    "        return 'метод указан неверно'\n",
    "\n",
    "e = 0.1\n",
    "analitic = np.pi / 4\n",
    "a = [sol(f1, 1, np.e, e, 'rect'), sol(f1, 1, np.e, e, 'trap'), sol(f1, 1, np.e, e, 'simps')]\n",
    "while (np.abs(analitic - a[0]) > 0.00001) and (np.abs(analitic - a[1]) > 0.00001) and (np.abs(analitic - a[2]) > 0.00001):\n",
    "    e /= 10\n",
    "    a[0] = sol(f1, 1, np.e, e, 'rect')\n",
    "    a[1] = sol(f1, 1, np.e, e, 'trap')\n",
    "    a[2] = sol(f1, 1, np.e, e, 'simps')\n",
    "print(\"Решения интеграла №4:\")\n",
    "print(\"Аналитическое: \", analitic)\n",
    "print(e)\n",
    "print(a)\n",
    "\n",
    "# Для 9го интеграла\n",
    "# e = 0.1\n",
    "# analitic = np.pi * np.sqrt(2) / 4\n",
    "# a = [sol(f2, 3/4, 2, e, 'rect'), sol(f2, 3/4, 2, e, 'trap'), sol(f2, 3/4, 2, e, 'simps')]\n",
    "# while (np.abs(analitic - a[0]) > 0.00001) and (np.abs(analitic - a[1]) > 0.00001) and (np.abs(analitic - a[2]) > 0.00001):\n",
    "#     e /= 10\n",
    "#     a[0] = sol(f2, 3/4, 2, e, 'rect')\n",
    "#     a[1] = sol(f2, 3/4, 2, e, 'trap')\n",
    "#     a[2] = sol(f2, 3/4, 2, e, 'simps')\n",
    "\n",
    "# print(\"Решения интеграла №9:\")\n",
    "# print(\"Аналитическое: \", analitic)\n",
    "# print(e)\n",
    "# print(a)\n",
    "\n",
    "\n",
    "# Совсем в лоб\n",
    "# #while e != 0.00001:\n",
    "# #     e /= 10\n",
    "# #     print(\"Шаг интегрирования = \", e)\n",
    "# #     print(\"Метод прямоугольников: \", sol(f1, 1, np.e, e, 'rect'))\n",
    "# #     print(\"Метод трапеций: \", sol(f1, 1, np.e, e, 'trap'))\n",
    "# #     print(\"Метод Симпсона: \", sol(f1, 1, np.e, e, 'simps'))  \n",
    "# # print(\"Решения интеграла №9:\")\n",
    "# # print(\"Аналитическое: \", np.pi * np.sqrt(2) / 4)\n",
    "# # e = 1\n",
    "# # while e != 0.000001:\n",
    "# #     e /= 10\n",
    "# #     print(\"Шаг интегрирования = \", e)\n",
    "# #     print(\"Метод прямоугольников: \", sol(f2, 3/4, 2, e, 'rect'))\n",
    "# #     print(\"Метод трапеций: \", sol(f2, 3/4, 2, e, 'trap'))\n",
    "# #     print(\"Метод Симпсона: \", sol(f2, 3/4, 2, e, 'simps'))"
   ]
  },
  {
   "cell_type": "code",
   "execution_count": null,
   "metadata": {},
   "outputs": [],
   "source": []
  },
  {
   "cell_type": "code",
   "execution_count": null,
   "metadata": {},
   "outputs": [],
   "source": []
  }
 ],
 "metadata": {
  "kernelspec": {
   "display_name": "Python 3 (ipykernel)",
   "language": "python",
   "name": "python3"
  },
  "language_info": {
   "codemirror_mode": {
    "name": "ipython",
    "version": 3
   },
   "file_extension": ".py",
   "mimetype": "text/x-python",
   "name": "python",
   "nbconvert_exporter": "python",
   "pygments_lexer": "ipython3",
   "version": "3.10.11"
  }
 },
 "nbformat": 4,
 "nbformat_minor": 2
}
