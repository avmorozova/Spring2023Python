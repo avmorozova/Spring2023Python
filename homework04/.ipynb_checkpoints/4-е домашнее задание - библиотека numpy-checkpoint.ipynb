{
 "cells": [
  {
   "cell_type": "markdown",
   "metadata": {},
   "source": [
    "## 4-е домашнее задание - Библиотека numpy\n",
    "\n",
    "Подпишите этот блокнот: укажите ФИО и номер группы. Выполненное задание загрузите в свой репозиторий «<b>Spring2023Python</b>» в github в папку \"<b>homework04</b>\".  \n",
    "\n",
    "Перед выполнением этого домашнего задания полезно прочитать про возможности и основные методы библиотеки numpy:  \n",
    "http://acm.mipt.ru/twiki/bin/view/Cintro/PythonNumpy  \n"
   ]
  },
  {
   "cell_type": "markdown",
   "metadata": {},
   "source": [
    "1.\tСоздайте равномерное разбиение интервала от -1.3 до 2.5 на 64 отрезка."
   ]
  },
  {
   "cell_type": "code",
   "execution_count": null,
   "metadata": {},
   "outputs": [],
   "source": []
  },
  {
   "cell_type": "markdown",
   "metadata": {},
   "source": [
    "2.\tСгенерируйте numpy массив длины $3n$, заполненный циклически числами 1, 2, 3, 1, 2, 3, 1...."
   ]
  },
  {
   "cell_type": "code",
   "execution_count": null,
   "metadata": {},
   "outputs": [],
   "source": []
  },
  {
   "cell_type": "markdown",
   "metadata": {},
   "source": [
    "3.\tСоздайте массив первых 10 нечетных целых чисел."
   ]
  },
  {
   "cell_type": "code",
   "execution_count": null,
   "metadata": {},
   "outputs": [],
   "source": []
  },
  {
   "cell_type": "markdown",
   "metadata": {},
   "source": [
    "4.  Создайте массив нулей размера 10 x 10, а затем создайте в нём \"рамку\" из единиц по краям."
   ]
  },
  {
   "cell_type": "code",
   "execution_count": null,
   "metadata": {},
   "outputs": [],
   "source": []
  },
  {
   "cell_type": "markdown",
   "metadata": {},
   "source": [
    "5.  Создайте массив 8 x 8 с шахматной доской из нулей и единиц."
   ]
  },
  {
   "cell_type": "code",
   "execution_count": null,
   "metadata": {},
   "outputs": [],
   "source": []
  },
  {
   "cell_type": "markdown",
   "metadata": {},
   "source": [
    "6.  Создайте функцию, которая создает $n×n$ матрицу с $(i,j)$-элементом, равным $i+j$."
   ]
  },
  {
   "cell_type": "code",
   "execution_count": null,
   "metadata": {},
   "outputs": [],
   "source": []
  },
  {
   "cell_type": "markdown",
   "metadata": {},
   "source": [
    "7. Примените функцию dot для перемножения вектор на вектор, матрицу на вектор и матрицу на матрицу."
   ]
  },
  {
   "cell_type": "code",
   "execution_count": null,
   "metadata": {},
   "outputs": [],
   "source": []
  },
  {
   "cell_type": "markdown",
   "metadata": {},
   "source": [
    "8. Вычислите cos(x) и sin(x) на интервале [0,1] с шагом $0.05$, а затем объедините оба массива чисел как строки в один массив."
   ]
  },
  {
   "cell_type": "code",
   "execution_count": null,
   "metadata": {},
   "outputs": [],
   "source": []
  },
  {
   "cell_type": "markdown",
   "metadata": {},
   "source": [
    "9. Создайте матрицу $A$ размера $3×5$ из случайных чисел с равномерным распределением на отрезке $[-1,3]$ (используйте np.random.rand)"
   ]
  },
  {
   "cell_type": "code",
   "execution_count": null,
   "metadata": {},
   "outputs": [],
   "source": []
  },
  {
   "cell_type": "markdown",
   "metadata": {},
   "source": [
    "10. Найдите сумму всех элементов, сумму внутри строк, сумму внутри столбцов, а также среднее значение, дисперсию и стандартное отклонение чисел для каждой строки матрицы $A$. (Подобно тому, как sorted имеет необязательный аргумент key=, многие функции Numpy имеют необязательный аргумент axis=)\n"
   ]
  },
  {
   "cell_type": "code",
   "execution_count": null,
   "metadata": {},
   "outputs": [],
   "source": []
  },
  {
   "cell_type": "markdown",
   "metadata": {},
   "source": [
    "11.  Отнимите от каждого элемента матрицы $A$ среднее по строке и поделите на стандартное отклонение строки."
   ]
  },
  {
   "cell_type": "code",
   "execution_count": null,
   "metadata": {},
   "outputs": [],
   "source": []
  },
  {
   "cell_type": "markdown",
   "metadata": {},
   "source": [
    "12. Отсортируйте матрицу $A$ по 3-ому столбцу, т.е. поменяйте местами строки матрицы так, чтобы 3-й столбец оказался отсортированным. Используйте для этого slicing + argsort + indexing."
   ]
  },
  {
   "cell_type": "code",
   "execution_count": null,
   "metadata": {},
   "outputs": [],
   "source": []
  },
  {
   "cell_type": "markdown",
   "metadata": {},
   "source": [
    "13. Посчитайте две матрицы: $B = A^TA$ и $C = AA^T$. Что вы можете о них сказать? Какого они размера? В чём их сходство и отличие?"
   ]
  },
  {
   "cell_type": "code",
   "execution_count": null,
   "metadata": {},
   "outputs": [],
   "source": []
  },
  {
   "cell_type": "markdown",
   "metadata": {},
   "source": [
    "14. Найдите сумму диагональных элементов матриц $B$ и $C$."
   ]
  },
  {
   "cell_type": "code",
   "execution_count": null,
   "metadata": {},
   "outputs": [],
   "source": []
  },
  {
   "cell_type": "markdown",
   "metadata": {},
   "source": [
    "15.\tПосчитайте детерминант и ранг матриц $A$, $B$ и $C$, посмотрите на спектр (набор собственных значений) матриц $B$ и $C$, какие выводы вы можете сделать?  \n",
    "(подсказка: используйте готовые функции из библиотеки np.linalg). \n"
   ]
  },
  {
   "cell_type": "code",
   "execution_count": null,
   "metadata": {},
   "outputs": [],
   "source": []
  },
  {
   "cell_type": "markdown",
   "metadata": {},
   "source": [
    "16. Численно посчитать определённый интеграл  3-мя методами:  \n",
    "a)\tПрямоугольников $\\int\\limits_a^b {f(x)dx \\approx \\Delta x\\sum\\limits_{k = 0}^N {f({x_k})} }$  \n",
    "b)\tТрапеций $\\int\\limits_a^b {f(x)dx \\approx \\frac{{\\Delta x}}{2}\\left( {f({x_0}) + 2\\sum\\limits_{k = 1}^{N - 1} {f({x_k})}  + f({x_N})} \\right)}$  \n",
    "c)\tПо правилу Симпсона  $\\int\\limits_a^b {f(x)dx \\approx \\frac{{\\Delta x}}{3}\\left( {f({x_0}) + 2\\sum\\limits_{k = 1}^{N/2 - 1} {f({x_{2k}})}  + 4\\sum\\limits_{k = 1}^{N/2} {f({x_{2k - 1}})}  + f({x_N})} \\right)}$  \n",
    "\n",
    "\n",
    "В реализации этих методов цикл for для суммирования использовать нельзя.  \n",
    "Нужно посчитать значение интеграла с некоторым шагом интегрирования (например начать с 0.1), потом уменьшить его в десять раз и ещё раз посчитать и так до тех пор пока отличие в ответах будет в 5-м знаке после запятой, т.е. чтобы ошибка была меньше 1e-5. Получить ответы для 3-х разных методов и сделать соответствующие выводы.  \n",
    "\n",
    "Далее необходимо сравнить полученные оценки с аналитическим решением (т.е. формульным, которое вы должны сами посчитать на листочке и вбить формулу-ответ).   \n",
    "\n",
    "В качестве интеграла взять два из следующих примеров:  \n",
    "- один с номером, сгенерированным случайным образом с помощью функции np.random.randint(9), в качестве seed для генератора случайных чисел взять номер своего студенческого билета. \n",
    "- второй номер - под номером 9, несобственный интерграл. Подумайте, как сделать подбор шага интегрирования адаптивным.\n",
    "\n",
    "<table width=\"80%\"\n",
    "       align=\"center\">\n",
    "    <tr>\n",
    "        <td> 0) $\\int\\limits_3^4 {\\frac{{{x^2} + 3}}{{x - 2}}dx}$ </td>\n",
    "        <td> 1) $\\int\\limits_{ - 2}^{ - 1} {\\frac{{x + 1}}{{{x^3} - {x^2}}}dx}$ </td>\n",
    "        <td> 2) $\\int\\limits_1^2 {\\frac{{{e^{1/{x^2}}}}}{{{x^3}}}dx}$ </td>\n",
    "        <td> 3) $\\int\\limits_1^e {\\frac{{\\cos (\\ln x)}}{x}dx}$ </td>\n",
    "        <td> 4) $\\int\\limits_1^e {\\frac{{dx}}{{x(1 + {{\\ln }^2}x)}}}$ </td>\n",
    "    </tr>                \n",
    "    <tr>\n",
    "        <td> 5) $\\int\\limits_0^{\\pi /2} {{{\\cos }^3}\\alpha \\;d\\alpha }$ </td>\n",
    "        <td> 6) $\\int\\limits_0^{1/3} {c{h^2}3x\\;dx}$ </td>\n",
    "        <td> 7) $\\int\\limits_2^3 {\\frac{{dy}}{{{y^2} - 2y - 8}}dy}$ </td>\n",
    "        <td> 8) $\\int\\limits_0^2 {\\frac{{2x - 1}}{{2x + 1}}dx}$ </td>\n",
    "        <td> 9) $\\int\\limits_{3/4}^2 {\\frac{{dx}}{{\\sqrt {2 + 3x - 2{x^2}} }}}$ </td>\n",
    "        </tr>\n",
    "</table>"
   ]
  },
  {
   "cell_type": "code",
   "execution_count": null,
   "metadata": {},
   "outputs": [],
   "source": []
  }
 ],
 "metadata": {
  "kernelspec": {
   "display_name": "Python 3 (ipykernel)",
   "language": "python",
   "name": "python3"
  },
  "language_info": {
   "codemirror_mode": {
    "name": "ipython",
    "version": 3
   },
   "file_extension": ".py",
   "mimetype": "text/x-python",
   "name": "python",
   "nbconvert_exporter": "python",
   "pygments_lexer": "ipython3",
   "version": "3.10.11"
  }
 },
 "nbformat": 4,
 "nbformat_minor": 2
}
