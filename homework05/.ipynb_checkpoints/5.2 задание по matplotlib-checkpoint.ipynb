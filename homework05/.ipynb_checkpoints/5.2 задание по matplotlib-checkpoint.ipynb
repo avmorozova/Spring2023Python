{
 "cells": [
  {
   "cell_type": "markdown",
   "metadata": {},
   "source": [
    "## Exercise 1  \n",
    "1. Создайте график $x^2⋅sin(1/x^2)+x$ на интервале $[−1,1]$, используя 250 точек. Не забудьте пометить оси!\n",
    "2. Создайте semilogy график (с логарифмической шкалой для оси y и линейной шкалой для оси x) относительной разницы  функций $1/(1+x^2)$ и $1/x^2$ на интервале $[5,25]$. (Относительная разница чисел $a$ и $b$ определяется как $|1−a/b|$)\n",
    "3. В Scipy также есть много менее распространенных специальных функций. Взгляните на обширный список <a href=https://docs.scipy.org/doc/scipy/reference/special.html> здесь</a>! Выберите несколько интересных спец функций, которые вы знаете (или, может быть, не знаете), подставьте несколько чисел и начертите их.\n"
   ]
  },
  {
   "cell_type": "code",
   "execution_count": 1,
   "metadata": {},
   "outputs": [],
   "source": [
    "import matplotlib.pyplot as plt\n",
    "import numpy a"
   ]
  },
  {
   "cell_type": "markdown",
   "metadata": {},
   "source": [
    "## Exercise 2  \n",
    "1. Построить график функции $sin(x)/x$ на отрезке $[-6\\pi;6\\pi]$ и добавить тики по оси $x$ с шагом $\\pi/2$ от $-6\\pi$ до $6\\pi$, причём обозначения тиков должны содержать греческую букву $\\pi$. Добавить сетку на график."
   ]
  },
  {
   "cell_type": "markdown",
   "metadata": {},
   "source": [
    "## Exercise 3  \n",
    "1. Создайте цветовой график $sin(x)sin(y)$ на интервале $[−π,π]×[−π,π]$.\n",
    "2. Создайте цветовой график $e^{-x^2-y^2}$ на интервале $[−3,3]×[−3,3]$."
   ]
  },
  {
   "cell_type": "code",
   "execution_count": null,
   "metadata": {},
   "outputs": [],
   "source": []
  },
  {
   "cell_type": "code",
   "execution_count": null,
   "metadata": {},
   "outputs": [],
   "source": []
  }
 ],
 "metadata": {
  "kernelspec": {
   "display_name": "Python 3 (ipykernel)",
   "language": "python",
   "name": "python3"
  },
  "language_info": {
   "codemirror_mode": {
    "name": "ipython",
    "version": 3
   },
   "file_extension": ".py",
   "mimetype": "text/x-python",
   "name": "python",
   "nbconvert_exporter": "python",
   "pygments_lexer": "ipython3",
   "version": "3.10.11"
  }
 },
 "nbformat": 4,
 "nbformat_minor": 2
}
